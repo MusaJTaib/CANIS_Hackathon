{
 "cells": [
  {
   "cell_type": "code",
   "execution_count": 38,
   "id": "4a8e71c9",
   "metadata": {},
   "outputs": [
    {
     "name": "stdout",
     "output_type": "stream",
     "text": [
      "      Unnamed: 0                                          topics\n",
      "0              0         put, ukraine, people, russia, ukrainian\n",
      "1              1            oil, trump, would, price, additional\n",
      "2              2       established, polish, side, tragedy, volyn\n",
      "3              3    fostering, possible, west, european, russian\n",
      "4              4            germany, getting, war, world, others\n",
      "...          ...                                             ...\n",
      "7364        7364              troop, usa, area, euphrates, syria\n",
      "7365        7365       nothing, coup, ukraine, russia, ukrainian\n",
      "7366        7366  reality, parliament, history, european, russia\n",
      "7367        7367  reality, history, parliament, european, russia\n",
      "7368        7368            state, intelligence, ci, goal, segey\n",
      "\n",
      "[7369 rows x 2 columns]\n"
     ]
    }
   ],
   "source": [
    "import pandas as pd\n",
    "\n",
    "# Open the file with the desired encoding and error handling\n",
    "with open('Top5-topic_modeling_RussianPropagandaSubset - Copy.csv', 'r', encoding='utf-8', errors='ignore') as file:\n",
    "    # Read the CSV file, ignoring encoding errors\n",
    "    df = pd.read_csv(file)\n",
    "\n",
    "# Display the dataframe\n",
    "print(df)\n"
   ]
  },
  {
   "cell_type": "code",
   "execution_count": 39,
   "id": "181f8887",
   "metadata": {},
   "outputs": [],
   "source": [
    "from collections import Counter\n",
    "import csv\n",
    "\n",
    "# Combine all the lists of words in column B into a single list\n",
    "all_words = []\n",
    "for word_list in df['topics']:\n",
    "    all_words.extend(str(word_list).split(','))\n",
    "\n",
    "# List of words to remove\n",
    "words_to_remove = {'said', 'one', 'say', 'day', 'also', 'need','would','like','time','think','thing','know','mr','going','make','even','first','many','get','want','may','year','two','could'}\n",
    "\n",
    "# Remove specified words and empty strings from the list\n",
    "filtered_words = [word.strip() for word in all_words if word.strip() not in words_to_remove and word.strip()]\n",
    "\n",
    "# Count the occurrences of each word using a collections.Counter object\n",
    "word_counter = Counter(filtered_words)\n",
    "\n",
    "# Get the top 100 most common words and their counts\n",
    "top_100_words = word_counter.most_common(100)\n",
    "\n",
    "# Write the result to a new CSV file\n",
    "with open('Top100-hot_topic_counts_Russian.csv', 'w', newline='') as file:\n",
    "    writer = csv.writer(file)\n",
    "    writer.writerow(['Word', 'Count'])\n",
    "    writer.writerows(top_100_words)\n"
   ]
  },
  {
   "cell_type": "code",
   "execution_count": null,
   "id": "ce5a3126",
   "metadata": {},
   "outputs": [],
   "source": []
  },
  {
   "cell_type": "code",
   "execution_count": null,
   "id": "caa328a6",
   "metadata": {},
   "outputs": [],
   "source": []
  }
 ],
 "metadata": {
  "kernelspec": {
   "display_name": "Python 3 (ipykernel)",
   "language": "python",
   "name": "python3"
  },
  "language_info": {
   "codemirror_mode": {
    "name": "ipython",
    "version": 3
   },
   "file_extension": ".py",
   "mimetype": "text/x-python",
   "name": "python",
   "nbconvert_exporter": "python",
   "pygments_lexer": "ipython3",
   "version": "3.10.10"
  }
 },
 "nbformat": 4,
 "nbformat_minor": 5
}
