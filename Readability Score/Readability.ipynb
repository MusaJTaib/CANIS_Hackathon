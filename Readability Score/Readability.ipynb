{
 "cells": [
  {
   "cell_type": "code",
   "execution_count": 103,
   "id": "389547a5",
   "metadata": {},
   "outputs": [],
   "source": [
    "import pandas as pd\n",
    "import textstat\n",
    "\n",
    "# Read the input CSV file\n",
    "input_csv = \"EXTRA_RussianPropagandaSubset.csv\"  # Replace with the actual file name\n",
    "df = pd.read_csv(input_csv)\n",
    "\n",
    "# Create a new column to store the average readability score per sentence\n",
    "df[\"average_readability_score\"] = 0\n",
    "\n",
    "# def clean_text(text):\n",
    "#     return re.sub(r'[^a-zA-Z0-9\\s]', '', text)\n",
    "\n",
    "# Iterate through each row and process the text in column B\n",
    "for index, row in df.iterrows():\n",
    "    text = row[\"text\"]  # Assuming the column name is \"B\"\n",
    "#     cleaned_text = clean_text(str(text))\n",
    "    cleaned_text = (str(text))\n",
    "    num_sentences = textstat.sentence_count(cleaned_text)\n",
    "    readability_score = textstat.flesch_reading_ease(cleaned_text)\n",
    "\n",
    "    # Calculate the average readability score per sentence\n",
    "#     average_readability_score = readability_score / num_sentences if num_sentences > 0 else 0\n",
    "    average_readability_score = readability_score \n",
    "    # Update the value in the dataframe\n",
    "    df.at[index, \"average_readability_score\"] = average_readability_score\n",
    "    \n",
    "def follows_format(row):\n",
    "    # Check if the first digit of the value in column A is a number\n",
    "    first_digit = int(str(row['Unnamed: 0'])[0])\n",
    "    return isinstance(first_digit, int)\n",
    "\n",
    "# Filter the DataFrame based on the custom function\n",
    "filtered_df = df.loc[df.apply(follows_format, axis=1)]\n",
    "\n",
    "# Save the output as a new CSV file\n",
    "output_csv = \"output.csv\"\n",
    "filtered_df.to_csv(output_csv, index=False)\n"
   ]
  },
  {
   "cell_type": "code",
   "execution_count": 104,
   "id": "a1b80077",
   "metadata": {},
   "outputs": [],
   "source": [
    "column_RS = df['average_readability_score']\n",
    "column_RS.to_csv('Readability_Score_RussianPropagandaSubset.csv', index=False, header=True)\n"
   ]
  },
  {
   "cell_type": "code",
   "execution_count": null,
   "id": "2a2d8b0a",
   "metadata": {},
   "outputs": [],
   "source": []
  }
 ],
 "metadata": {
  "kernelspec": {
   "display_name": "Python 3 (ipykernel)",
   "language": "python",
   "name": "python3"
  },
  "language_info": {
   "codemirror_mode": {
    "name": "ipython",
    "version": 3
   },
   "file_extension": ".py",
   "mimetype": "text/x-python",
   "name": "python",
   "nbconvert_exporter": "python",
   "pygments_lexer": "ipython3",
   "version": "3.10.10"
  }
 },
 "nbformat": 4,
 "nbformat_minor": 5
}
