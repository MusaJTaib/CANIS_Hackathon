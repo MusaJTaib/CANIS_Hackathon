{
 "cells": [
  {
   "cell_type": "code",
   "execution_count": 20,
   "id": "4a8e71c9",
   "metadata": {},
   "outputs": [
    {
     "name": "stdout",
     "output_type": "stream",
     "text": [
      "         Word  Count\n",
      "0      russia    930\n",
      "1     ukraine    834\n",
      "2   ukrainian    588\n",
      "3     russian    541\n",
      "4        nato    320\n",
      "..        ...    ...\n",
      "95        law     50\n",
      "96     syrian     49\n",
      "97    british     49\n",
      "98     system     49\n",
      "99   national     49\n",
      "\n",
      "[100 rows x 2 columns]\n",
      "[('russia', 930), ('ukraine', 834), ('ukrainian', 588), ('russian', 541), ('nato', 320), ('eu', 292), ('country', 291), ('state', 263), ('european', 243), ('europe', 229), ('war', 227), ('people', 212), ('military', 183), ('west', 179), ('president', 171), ('donbas', 168), ('crimea', 167), ('american', 164), ('attack', 163), ('election', 143), ('syria', 133), ('new', 128), ('nbsp', 125), ('world', 120), ('government', 120), ('western', 114), ('force', 111), ('weapon', 102), ('sanction', 97), ('chemical', 96), ('kyiv', 94), ('poland', 93), ('medium', 90), ('terrorist', 90), ('conflict', 89), ('belarus', 89), ('order', 88), ('czech', 82), ('republic', 82), ('eastern', 81), ('german', 80), ('political', 79), ('germany', 78), ('union', 78), ('part', 77), ('border', 77), ('baltic', 76), ('united', 75), ('georgia', 74), ('isi', 74), ('poroshenko', 74), ('coup', 73), ('usa', 73), ('migrant', 72), ('army', 70), ('region', 70), ('power', 69), ('service', 68), ('washington', 66), ('trend', 64), ('moscow', 63), ('authority', 63), ('security', 63), ('right', 63), ('week', 63), ('nuclear', 62), ('member', 62), ('moldova', 61), ('territory', 61), ('brussels', 61), ('white', 59), ('provocation', 59), ('soldier', 59), ('foreign', 58), ('nazi', 58), ('international', 58), ('operation', 58), ('helmet', 58), ('citizen', 56), ('preparing', 55), ('case', 55), ('belarusian', 55), ('polish', 54), ('mh', 54), ('evidence', 54), ('trump', 53), ('putin', 53), ('plan', 53), ('regime', 53), ('antirussian', 53), ('according', 52), ('group', 52), ('secret', 52), ('agreement', 51), ('turkey', 51), ('law', 50), ('syrian', 49), ('british', 49), ('system', 49), ('national', 49)]\n"
     ]
    }
   ],
   "source": [
    "import pandas as pd\n",
    "\n",
    "# Open the file with the desired encoding and error handling\n",
    "with open('Top100-hot_topic_counts_Russian.csv', 'r', encoding='utf-8', errors='ignore') as file:\n",
    "    # Read the CSV file, ignoring encoding errors\n",
    "    df = pd.read_csv(file)\n",
    "\n",
    "# Display the dataframe\n",
    "print(df)\n",
    "\n",
    "# Combine all the lists of words in column B into a single list\n",
    "# all_words = []\n",
    "# for word in df['Word']:\n",
    "#     all_words.append(str(word))\n",
    "    \n",
    "# print(all_words)\n",
    "word_count_list = df.to_records(index=False).tolist()\n",
    "print(word_count_list)\n"
   ]
  },
  {
   "cell_type": "code",
   "execution_count": null,
   "id": "181f8887",
   "metadata": {},
   "outputs": [],
   "source": [
    "import matplotlib.pyplot as plt\n",
    "from wordcloud import WordCloud\n",
    "\n",
    "# Assuming you have a list of top 100 words and their counts\n",
    "# Example: top_100_words = [('word1', 120), ('word2', 100), ...]\n",
    "\n",
    "# Convert the list of tuples into a dictionary\n",
    "word_frequencies = dict(word_count_list)\n",
    "\n",
    "# Create a WordCloud object and generate the word cloud\n",
    "wordcloud = WordCloud(width=1600, height=800, background_color='white', colormap='viridis')\n",
    "wordcloud.generate_from_frequencies(word_frequencies)\n",
    "\n",
    "# Display the word cloud using matplotlib\n",
    "plt.figure(figsize=(48, 24), dpi=1200)\n",
    "plt.imshow(wordcloud, interpolation='bilinear')\n",
    "plt.axis('off')\n",
    "plt.show()\n",
    "\n",
    "# Save the word cloud to a file\n",
    "wordcloud.to_file('Topic-wordcloud-Russian.png')\n"
   ]
  },
  {
   "cell_type": "code",
   "execution_count": null,
   "id": "ce5a3126",
   "metadata": {},
   "outputs": [],
   "source": []
  },
  {
   "cell_type": "code",
   "execution_count": null,
   "id": "caa328a6",
   "metadata": {},
   "outputs": [],
   "source": []
  }
 ],
 "metadata": {
  "kernelspec": {
   "display_name": "Python 3 (ipykernel)",
   "language": "python",
   "name": "python3"
  },
  "language_info": {
   "codemirror_mode": {
    "name": "ipython",
    "version": 3
   },
   "file_extension": ".py",
   "mimetype": "text/x-python",
   "name": "python",
   "nbconvert_exporter": "python",
   "pygments_lexer": "ipython3",
   "version": "3.10.10"
  }
 },
 "nbformat": 4,
 "nbformat_minor": 5
}
